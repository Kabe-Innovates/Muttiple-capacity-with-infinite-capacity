{
 "cells": [
  {
   "cell_type": "code",
   "execution_count": 2,
   "id": "ddd861db",
   "metadata": {},
   "outputs": [],
   "source": [
    "import math"
   ]
  },
  {
   "cell_type": "code",
   "execution_count": 3,
   "metadata": {},
   "outputs": [],
   "source": [
    "# Getting Inputs\n",
    "ArrivalTime = float(input(\"Enter the mean inter arrival time of objects from Feeder (in secs): \"))\n",
    "ServiceTime = float(input(\"Enter the mean inter service time of Lathe Machine (in secs): \"))\n",
    "RobotTime = float(input(\"Enter the Additional time taken for the Robot (in secs): \"))\n",
    "NumberOfServers = int(input(\"Number of service centre : \"))"
   ]
  },
  {
   "cell_type": "code",
   "execution_count": 8,
   "id": "c6361def",
   "metadata": {},
   "outputs": [
    {
     "name": "stdout",
     "output_type": "stream",
     "text": [
      "Multiple Server with Infinite Capacity - (M/M/c):(∞/FIFO)\n",
      "The mean arrival rate per second : 0.10\n",
      "The mean service rate per second : 0.12\n"
     ]
    }
   ],
   "source": [
    "\n",
    "# Calculating Lambda and Mu\n",
    "Lambda = 1 / ArrivalTime\n",
    "Mu = 1 / (ServiceTime + RobotTime)\n",
    "\n",
    "print(\"Multiple Server with Infinite Capacity - (M/M/c):(∞/FIFO)\")\n",
    "print(\"The mean arrival rate per second : %0.2f\" % Lambda)\n",
    "print(\"The mean service rate per second : %0.2f\" % Mu)\n"
   ]
  },
  {
   "cell_type": "code",
   "execution_count": 5,
   "id": "bc5e0e07",
   "metadata": {},
   "outputs": [],
   "source": [
    "\n",
    "# Utilization factor\n",
    "Rho = Lambda / (NumberOfServers * Mu)\n",
    "\n",
    "# Calculating P0 (Probability system is empty)\n",
    "sum_terms = 0\n",
    "for i in range(NumberOfServers):\n",
    "    sum_terms += (Lambda / Mu) ** i / math.factorial(i)\n",
    "\n",
    "last_term = ((Lambda / Mu) ** NumberOfServers) / (math.factorial(NumberOfServers) * (1 - Rho))\n",
    "TotalSum = sum_terms + last_term\n",
    "P0 = 1 / TotalSum\n"
   ]
  },
  {
   "cell_type": "code",
   "execution_count": 7,
   "id": "fc619cc6",
   "metadata": {},
   "outputs": [
    {
     "name": "stdout",
     "output_type": "stream",
     "text": [
      "Average number of objects in the system : 0.95\n",
      "Average number of objects in the conveyor :  0.15\n",
      "Average waiting time of an object in the system : 9.52 secs\n",
      "Average waiting time of an object in the conveyor : 1.52 secs\n",
      "Probability that the system is busy : 0.40\n",
      "Probability that the system is empty : 0.60\n"
     ]
    }
   ],
   "source": [
    "\n",
    "# System performance measures (M/M/c)\n",
    "if Rho < 1:\n",
    "    Lq = ((P0 * ((Lambda / Mu) ** NumberOfServers) * Rho) /\n",
    "          (math.factorial(NumberOfServers) * ((1 - Rho) ** 2)))\n",
    "    Ls = Lq + (Lambda / Mu)\n",
    "    Ws = Ls / Lambda\n",
    "    Wq = Lq / Lambda\n",
    "\n",
    "    print(\"Average number of objects in the system : %0.2f\" % Ls)\n",
    "    print(\"Average number of objects in the conveyor :  %0.2f\" % Lq)\n",
    "    print(\"Average waiting time of an object in the system : %0.2f secs\" % Ws)\n",
    "    print(\"Average waiting time of an object in the conveyor : %0.2f secs\" % Wq)\n",
    "    print(\"Probability that the system is busy : %0.2f\" % Rho)\n",
    "    print(\"Probability that the system is empty : %0.2f\" % (1 - Rho))\n",
    "else:\n",
    "    print(\"Warning! Objects Over flow will happen in the conveyor\")\n"
   ]
  },
  {
   "cell_type": "code",
   "execution_count": null,
   "id": "d49556f2",
   "metadata": {},
   "outputs": [],
   "source": []
  }
 ],
 "metadata": {
  "kernelspec": {
   "display_name": "base",
   "language": "python",
   "name": "python3"
  },
  "language_info": {
   "codemirror_mode": {
    "name": "ipython",
    "version": 3
   },
   "file_extension": ".py",
   "mimetype": "text/x-python",
   "name": "python",
   "nbconvert_exporter": "python",
   "pygments_lexer": "ipython3",
   "version": "3.11.3"
  }
 },
 "nbformat": 4,
 "nbformat_minor": 5
}
